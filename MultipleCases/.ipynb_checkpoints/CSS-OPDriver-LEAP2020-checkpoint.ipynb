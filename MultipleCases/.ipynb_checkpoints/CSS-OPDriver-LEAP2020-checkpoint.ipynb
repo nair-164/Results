{
 "cells": [
  {
   "cell_type": "markdown",
   "metadata": {},
   "source": [
    "## setup"
   ]
  },
  {
   "cell_type": "code",
   "execution_count": 1,
   "metadata": {},
   "outputs": [],
   "source": [
    "import numpy as np\n",
    "import pandas as pd\n",
    "import matplotlib.pyplot as plt"
   ]
  },
  {
   "cell_type": "code",
   "execution_count": 2,
   "metadata": {
    "scrolled": true
   },
   "outputs": [],
   "source": [
    "from runPM4SandOP import runPM4SandOP\n",
    "from CreatePlotsD import *\n",
    "#from plotStressStrain import plotStressStrainSand\n",
    "\n",
    "#Create file for storing # of cycles\n",
    "open('nCyclesResultD.dat', 'w').close()"
   ]
  },
  {
   "cell_type": "markdown",
   "metadata": {},
   "source": [
    "## Loading conditions"
   ]
  },
  {
   "cell_type": "code",
   "execution_count": 3,
   "metadata": {},
   "outputs": [],
   "source": [
    "# Loading Conditions\n",
    "# ------------------\n",
    "CSR = 0.11        # cyclic Stress Ratio\n",
    "sigmav = 101.3    # Initial vertical effective stress\n",
    "maxStrain = 0.03  # Max shear strain used as criteria for liquefaction initiation\n",
    "alpha = 0.0       # Initial off-center shear stress ratio "
   ]
  },
  {
   "cell_type": "markdown",
   "metadata": {},
   "source": [
    "## Material parameters"
   ]
  },
  {
   "cell_type": "code",
   "execution_count": null,
   "metadata": {},
   "outputs": [
    {
     "name": "stdout",
     "output_type": "stream",
     "text": [
      "C:\\Users\\adith\\Downloads\\quoFEM_Windows_Download\\quoFEM_Windows_Download\\applications\\opensees\\bin\\opensees.exe  DSS_quad_DispControl2.tcl 0.105 400 0.030 -101.3 0.5 0.000 \n",
      "C:\\Users\\adith\\Downloads\\quoFEM_Windows_Download\\quoFEM_Windows_Download\\applications\\opensees\\bin\\opensees.exe  DSS_quad_DispControl2.tcl 0.105 400 0.030 -101.3 0.5 0.000 \n",
      "C:\\Users\\adith\\Downloads\\quoFEM_Windows_Download\\quoFEM_Windows_Download\\applications\\opensees\\bin\\opensees.exe  DSS_quad_DispControl2.tcl 0.130 400 0.030 -101.3 0.5 0.000 \n",
      "C:\\Users\\adith\\Downloads\\quoFEM_Windows_Download\\quoFEM_Windows_Download\\applications\\opensees\\bin\\opensees.exe  DSS_quad_DispControl2.tcl 0.151 400 0.030 -101.3 0.5 0.000 \n",
      "C:\\Users\\adith\\Downloads\\quoFEM_Windows_Download\\quoFEM_Windows_Download\\applications\\opensees\\bin\\opensees.exe  DSS_quad_DispControl2.tcl 0.172 400 0.030 -101.3 0.5 0.000 \n",
      "C:\\Users\\adith\\Downloads\\quoFEM_Windows_Download\\quoFEM_Windows_Download\\applications\\opensees\\bin\\opensees.exe  DSS_quad_DispControl2.tcl 0.200 400 0.030 -101.3 0.5 0.000 \n"
     ]
    }
   ],
   "source": [
    "# Material parameters\n",
    "# -------------------\n",
    "inputList = {'Dr': .65, 'G0' : 240, 'hpo':0.05, 'phicv':33, 'emax':0.81, 'emin':0.492, 'cz':250, 'zmax': -1}\n",
    "csrlist = np.genfromtxt('Ottawa_F65_ExpData.txt', usecols = (0))\n",
    "for x in csrlist:\n",
    "    runPM4SandOP(inputList, x, maxStrain, -sigmav, alpha)\n",
    "    # createPlotsD()\n",
    "createCombinedPlots(expDataFile='Ottawa_F65_ExpData.txt', cols=1)\n"
   ]
  },
  {
   "cell_type": "code",
   "execution_count": null,
   "metadata": {},
   "outputs": [],
   "source": []
  },
  {
   "cell_type": "code",
   "execution_count": null,
   "metadata": {},
   "outputs": [],
   "source": [
    "# RELATIVE DENSITY\n",
    "\n",
    "f = open(\"nCyclesResultD.dat\", \"r\")\n",
    "#print(f.read())\n",
    "results = np.genfromtxt(f, delimiter = \" \")\n",
    "plt.plot(np.arange(.6,.71,.01), results[:,1], \"b-*\")\n",
    "plt.xlabel(\"Relative Density (Dr)\")\n",
    "plt.ylabel(\"# of Cycles\")\n",
    "plt.title(\"Dr vs. # of cycles\")\n",
    "plt.savefig(\"DrPlot.png\")"
   ]
  },
  {
   "cell_type": "code",
   "execution_count": null,
   "metadata": {},
   "outputs": [],
   "source": [
    "## SHEAR MODULUS\n",
    "\n",
    "#Create file for storing # of cycles\n",
    "open('nCyclesResultD.dat', 'w').close()\n",
    "\n",
    "# Loading Conditions\n",
    "# ------------------\n",
    "CSR = 0.11        # cyclic Stress Ratio\n",
    "sigmav = 101.3    # Initial vertical effective stress\n",
    "maxStrain = 0.03  # Max shear strain used as criteria for liquefaction initiation\n",
    "alpha = 0.0       # Initial off-center shear stress ratio \n",
    "\n",
    "# Material parameters\n",
    "# -------------------\n",
    "for g in np.arange(100, 400, 50):\n",
    "    inputList = {'Dr': .65, 'G0' : g, 'hpo':0.07, 'phicv':35.6, 'emax':0.74, 'emin':0.49, 'cz':200, 'zmax': 2}\n",
    "    runPM4SandOP(inputList, 0.11, maxStrain, -sigmav, alpha)\n",
    "    # createPlotsD()\n",
    "\n",
    "f = open(\"nCyclesResultD.dat\", \"r\")\n",
    "#print(f.read())\n",
    "results = np.genfromtxt(f, delimiter = \" \")\n",
    "plt.plot(np.arange(100, 400, 50), results[:,1], \"r-*\")\n",
    "plt.xlabel(\"Shear Modulus (G0)\")\n",
    "plt.ylabel(\"# of Cycles\")\n",
    "plt.title(\"G0 vs. # of cycles\")\n",
    "plt.savefig(\"G0Plot.png\")"
   ]
  },
  {
   "cell_type": "code",
   "execution_count": null,
   "metadata": {},
   "outputs": [],
   "source": []
  },
  {
   "cell_type": "code",
   "execution_count": null,
   "metadata": {},
   "outputs": [],
   "source": [
    "## CONTRACTION RATE PARAMETER\n",
    "\n",
    "#Create file for storing # of cycles\n",
    "open('nCyclesResultD.dat', 'w').close()\n",
    "\n",
    "# Loading Conditions\n",
    "# ------------------\n",
    "CSR = 0.11        # cyclic Stress Ratio\n",
    "sigmav = 101.3    # Initial vertical effective stress\n",
    "maxStrain = 0.03  # Max shear strain used as criteria for liquefaction initiation\n",
    "alpha = 0.0       # Initial off-center shear stress ratio \n",
    "\n",
    "# Material parameters\n",
    "# -------------------\n",
    "for hp in np.arange(.05, .7, .05):\n",
    "    inputList = {'Dr': .65, 'G0' : 350, 'hpo':hp, 'phicv':35.6, 'emax':0.74, 'emin':0.49, 'cz':200, 'zmax': 2}\n",
    "    runPM4SandOP(inputList, 0.11, maxStrain, -sigmav, alpha)\n",
    "    # createPlotsD()\n",
    "\n",
    "f = open(\"nCyclesResultD.dat\", \"r\")\n",
    "#print(f.read())\n",
    "results = np.genfromtxt(f, delimiter = \" \")\n",
    "plt.plot(np.arange(.05, .08, .005), results[:,1], \"g-*\")\n",
    "plt.xlabel(\"Contraction Rate Parameter (hpo)\")\n",
    "plt.ylabel(\"# of Cycles\")\n",
    "plt.title(\"hpo vs. # of cycles\")\n",
    "plt.savefig(\"HpoPlot.png\")"
   ]
  },
  {
   "cell_type": "markdown",
   "metadata": {},
   "source": [
    "## Run OpenSees simulations"
   ]
  },
  {
   "cell_type": "code",
   "execution_count": null,
   "metadata": {},
   "outputs": [],
   "source": [
    "# Case 1\n",
    "# ------\n",
    "# Run MixedDriver for input material parameters and loading conditions. Results in .out file\n",
    "runPM4SandOP(inputList, 0.11, maxStrain, -sigmav, alpha)\n",
    "  \n",
    "    "
   ]
  },
  {
   "cell_type": "code",
   "execution_count": null,
   "metadata": {},
   "outputs": [],
   "source": [
    "createPlotsD()"
   ]
  },
  {
   "cell_type": "code",
   "execution_count": null,
   "metadata": {
    "scrolled": false
   },
   "outputs": [],
   "source": [
    "# Case 2\n",
    "# ------# Run MixedDriver for input material parameters and loading conditions. Results in .out file\n",
    "runPM4SandOP(inputList, 0.12, maxStrain, -sigmav, alpha)\n"
   ]
  },
  {
   "cell_type": "code",
   "execution_count": null,
   "metadata": {},
   "outputs": [],
   "source": [
    "createPlotsD()"
   ]
  },
  {
   "cell_type": "code",
   "execution_count": null,
   "metadata": {},
   "outputs": [],
   "source": [
    "# Case 3\n",
    "# ------# Run MixedDriver for input material parameters and loading conditions. Results in .out file\n",
    "runPM4SandOP(inputList, 0.13, maxStrain, -sigmav, alpha)"
   ]
  },
  {
   "cell_type": "code",
   "execution_count": null,
   "metadata": {},
   "outputs": [],
   "source": [
    "createPlotsD()"
   ]
  },
  {
   "cell_type": "code",
   "execution_count": null,
   "metadata": {},
   "outputs": [],
   "source": [
    "# Case 4\n",
    "# ------# Run MixedDriver for input material parameters and loading conditions. Results in .out file\n",
    "runPM4SandOP(inputList, 0.16, maxStrain, -sigmav, alpha)"
   ]
  },
  {
   "cell_type": "code",
   "execution_count": null,
   "metadata": {},
   "outputs": [],
   "source": [
    "createPlotsD()"
   ]
  },
  {
   "cell_type": "markdown",
   "metadata": {},
   "source": [
    "## Plot combined results (simulations/experimental)"
   ]
  },
  {
   "cell_type": "code",
   "execution_count": null,
   "metadata": {},
   "outputs": [],
   "source": [
    "createCombinedPlots()"
   ]
  },
  {
   "cell_type": "code",
   "execution_count": null,
   "metadata": {},
   "outputs": [],
   "source": []
  },
  {
   "cell_type": "code",
   "execution_count": null,
   "metadata": {},
   "outputs": [],
   "source": []
  }
 ],
 "metadata": {
  "kernelspec": {
   "display_name": "Python 3",
   "language": "python",
   "name": "python3"
  },
  "language_info": {
   "codemirror_mode": {
    "name": "ipython",
    "version": 3
   },
   "file_extension": ".py",
   "mimetype": "text/x-python",
   "name": "python",
   "nbconvert_exporter": "python",
   "pygments_lexer": "ipython3",
   "version": "3.8.10"
  }
 },
 "nbformat": 4,
 "nbformat_minor": 2
}
